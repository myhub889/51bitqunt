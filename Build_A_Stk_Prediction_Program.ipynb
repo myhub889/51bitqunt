{
  "nbformat": 4,
  "nbformat_minor": 0,
  "metadata": {
    "colab": {
      "name": "Build A Stk Prediction Program",
      "provenance": [],
      "collapsed_sections": [],
      "authorship_tag": "ABX9TyNW31KImZBzMY1H50urAWtk",
      "include_colab_link": true
    },
    "kernelspec": {
      "name": "python3",
      "display_name": "Python 3"
    }
  },
  "cells": [
    {
      "cell_type": "markdown",
      "metadata": {
        "id": "view-in-github",
        "colab_type": "text"
      },
      "source": [
        "<a href=\"https://colab.research.google.com/github/myhub889/51bitqunt/blob/master/Build_A_Stk_Prediction_Program.ipynb\" target=\"_parent\"><img src=\"https://colab.research.google.com/assets/colab-badge.svg\" alt=\"Open In Colab\"/></a>"
      ]
    },
    {
      "cell_type": "code",
      "metadata": {
        "id": "h5eEqf5dTTjO",
        "colab_type": "code",
        "outputId": "4b2e7adc-5aca-4720-c89b-90fe9d90b686",
        "colab": {
          "base_uri": "https://localhost:8080/",
          "height": 242
        }
      },
      "source": [
        "pip install quandl\n"
      ],
      "execution_count": 41,
      "outputs": [
        {
          "output_type": "stream",
          "text": [
            "Requirement already satisfied: quandl in /usr/local/lib/python3.6/dist-packages (3.5.0)\n",
            "Requirement already satisfied: six in /usr/local/lib/python3.6/dist-packages (from quandl) (1.12.0)\n",
            "Requirement already satisfied: inflection>=0.3.1 in /usr/local/lib/python3.6/dist-packages (from quandl) (0.4.0)\n",
            "Requirement already satisfied: pandas>=0.14 in /usr/local/lib/python3.6/dist-packages (from quandl) (1.0.3)\n",
            "Requirement already satisfied: python-dateutil in /usr/local/lib/python3.6/dist-packages (from quandl) (2.8.1)\n",
            "Requirement already satisfied: requests>=2.7.0 in /usr/local/lib/python3.6/dist-packages (from quandl) (2.23.0)\n",
            "Requirement already satisfied: numpy>=1.8 in /usr/local/lib/python3.6/dist-packages (from quandl) (1.18.4)\n",
            "Requirement already satisfied: more-itertools in /usr/local/lib/python3.6/dist-packages (from quandl) (8.3.0)\n",
            "Requirement already satisfied: pytz>=2017.2 in /usr/local/lib/python3.6/dist-packages (from pandas>=0.14->quandl) (2018.9)\n",
            "Requirement already satisfied: urllib3!=1.25.0,!=1.25.1,<1.26,>=1.21.1 in /usr/local/lib/python3.6/dist-packages (from requests>=2.7.0->quandl) (1.24.3)\n",
            "Requirement already satisfied: certifi>=2017.4.17 in /usr/local/lib/python3.6/dist-packages (from requests>=2.7.0->quandl) (2020.4.5.1)\n",
            "Requirement already satisfied: chardet<4,>=3.0.2 in /usr/local/lib/python3.6/dist-packages (from requests>=2.7.0->quandl) (3.0.4)\n",
            "Requirement already satisfied: idna<3,>=2.5 in /usr/local/lib/python3.6/dist-packages (from requests>=2.7.0->quandl) (2.9)\n"
          ],
          "name": "stdout"
        }
      ]
    },
    {
      "cell_type": "code",
      "metadata": {
        "id": "Cs0EMloCbYcX",
        "colab_type": "code",
        "colab": {}
      },
      "source": [
        "# this program predicts stock prices by using machine learning models # install the dependencies\n",
        "import quandl\n",
        "import numpy as np\n",
        "from sklearn.linear_model import LinearRegression\n",
        "from sklearn.svm import SVR\n",
        "from sklearn.model_selection import train_test_split"
      ],
      "execution_count": 0,
      "outputs": []
    },
    {
      "cell_type": "code",
      "metadata": {
        "id": "Hnl1PnjUX9ct",
        "colab_type": "code",
        "outputId": "0502ef4d-a14f-4cb0-a2be-9e33e5270b3e",
        "colab": {
          "base_uri": "https://localhost:8080/",
          "height": 276
        }
      },
      "source": [
        "# get the stock data\n",
        "df=quandl.get(\"WIKI/MU\", authtoken=\"jpyN_Jd_U-pAtUZPV71n\")\n",
        "# take a look at the data\n",
        "print(df)"
      ],
      "execution_count": 43,
      "outputs": [
        {
          "output_type": "stream",
          "text": [
            "             Open   High    Low  ...   Adj. Low  Adj. Close  Adj. Volume\n",
            "Date                             ...                                    \n",
            "1989-05-16  24.50  24.63  23.38  ...   2.263457    2.286692   13134800.0\n",
            "1989-05-17  23.88  24.87  23.62  ...   2.284888    2.345831    8472000.0\n",
            "1989-05-18  24.50  24.50  24.00  ...   2.324353    2.335974    4792800.0\n",
            "1989-05-19  24.25  24.87  24.12  ...   2.335974    2.335974    6996800.0\n",
            "1989-05-22  24.38  25.37  24.25  ...   2.339775    2.424682    9036800.0\n",
            "...           ...    ...    ...  ...        ...         ...          ...\n",
            "2018-03-21  61.35  61.72  60.60  ...  60.600000   61.070000   50063889.0\n",
            "2018-03-22  60.07  60.30  58.11  ...  58.110000   58.970000   66693263.0\n",
            "2018-03-23  57.69  58.80  53.68  ...  53.680000   54.210000  117093861.0\n",
            "2018-03-26  56.26  56.71  52.72  ...  52.720000   55.560000   69445328.0\n",
            "2018-03-27  55.06  55.47  51.68  ...  51.680000   52.400000   67229050.0\n",
            "\n",
            "[7273 rows x 12 columns]\n"
          ],
          "name": "stdout"
        }
      ]
    },
    {
      "cell_type": "code",
      "metadata": {
        "id": "yuTQ5hSpdvWw",
        "colab_type": "code",
        "outputId": "30012b4f-3ceb-4f9b-915e-780204583a11",
        "colab": {
          "base_uri": "https://localhost:8080/",
          "height": 138
        }
      },
      "source": [
        "# get the adjusted close price\n",
        "df=df[[\"Adj. Close\"]]\n",
        "# take a look at the new data\n",
        "print(df.tail())"
      ],
      "execution_count": 44,
      "outputs": [
        {
          "output_type": "stream",
          "text": [
            "            Adj. Close\n",
            "Date                  \n",
            "2018-03-21       61.07\n",
            "2018-03-22       58.97\n",
            "2018-03-23       54.21\n",
            "2018-03-26       55.56\n",
            "2018-03-27       52.40\n"
          ],
          "name": "stdout"
        }
      ]
    },
    {
      "cell_type": "code",
      "metadata": {
        "id": "nHjlYxXpe61g",
        "colab_type": "code",
        "outputId": "fd6f41ee-59fd-418b-e54a-c6675f5e50df",
        "colab": {
          "base_uri": "https://localhost:8080/",
          "height": 138
        }
      },
      "source": [
        "# A variable for predicting n days out into the future\n",
        "forecast_out=33\n",
        "# create another column(the target or dependent variable)shifted \"n\" units up\n",
        "df[\"prediction\"]=df[[\"Adj. Close\"]].shift(-forecast_out)\n",
        "# print the new data set\n",
        "print(df.tail())"
      ],
      "execution_count": 45,
      "outputs": [
        {
          "output_type": "stream",
          "text": [
            "            Adj. Close  prediction\n",
            "Date                              \n",
            "2018-03-21       61.07         NaN\n",
            "2018-03-22       58.97         NaN\n",
            "2018-03-23       54.21         NaN\n",
            "2018-03-26       55.56         NaN\n",
            "2018-03-27       52.40         NaN\n"
          ],
          "name": "stdout"
        }
      ]
    },
    {
      "cell_type": "code",
      "metadata": {
        "id": "ilfC1YaTkBlv",
        "colab_type": "code",
        "outputId": "f6a12022-5ffe-4ed4-ec04-e66c5c0333c6",
        "colab": {
          "base_uri": "https://localhost:8080/",
          "height": 138
        }
      },
      "source": [
        "# create the indenpent data set (x) # convert the dataframe to a numpy array\n",
        "x=np.array(df.drop([\"prediction\"],1))\n",
        "# remove the last n rows\n",
        "x=x[:-forecast_out]\n",
        "print(x)"
      ],
      "execution_count": 46,
      "outputs": [
        {
          "output_type": "stream",
          "text": [
            "[[ 2.28669229]\n",
            " [ 2.34583088]\n",
            " [ 2.33597445]\n",
            " ...\n",
            " [39.62      ]\n",
            " [43.88      ]\n",
            " [42.01      ]]\n"
          ],
          "name": "stdout"
        }
      ]
    },
    {
      "cell_type": "code",
      "metadata": {
        "id": "VPfO1llimnfT",
        "colab_type": "code",
        "outputId": "2ccb55d7-6d6d-4fba-c74b-6233aaed83be",
        "colab": {
          "base_uri": "https://localhost:8080/",
          "height": 52
        }
      },
      "source": [
        "# create the dependent data set(y)# convert the dataframe to a numpy array(all of the values including the NAN's)\n",
        "y=np.array(df[\"prediction\"])\n",
        "# get all of the values except the last n rows \n",
        "y=y[:-forecast_out]\n",
        "print(y)"
      ],
      "execution_count": 47,
      "outputs": [
        {
          "output_type": "stream",
          "text": [
            "[ 1.78401424  1.77415781  1.76430138 ... 54.21       55.56\n",
            " 52.4       ]\n"
          ],
          "name": "stdout"
        }
      ]
    },
    {
      "cell_type": "code",
      "metadata": {
        "id": "1hs7ITI3nSa8",
        "colab_type": "code",
        "colab": {}
      },
      "source": [
        "# split the data into 80% training and 20% testing\n",
        "x_train,x_test,y_train,y_test=train_test_split(x,y,test_size=0.2)"
      ],
      "execution_count": 0,
      "outputs": []
    },
    {
      "cell_type": "code",
      "metadata": {
        "id": "FduqwAArpNVq",
        "colab_type": "code",
        "outputId": "167b0b42-e79c-4b30-e414-b5054142987d",
        "colab": {
          "base_uri": "https://localhost:8080/",
          "height": 52
        }
      },
      "source": [
        "# create and train the support vector machine(regressor)\n",
        "svr_rbf=SVR(kernel=\"rbf\",C=1e3,gamma=0.1)\n",
        "svr_rbf.fit(x_train,y_train)"
      ],
      "execution_count": 49,
      "outputs": [
        {
          "output_type": "execute_result",
          "data": {
            "text/plain": [
              "SVR(C=1000.0, cache_size=200, coef0=0.0, degree=3, epsilon=0.1, gamma=0.1,\n",
              "    kernel='rbf', max_iter=-1, shrinking=True, tol=0.001, verbose=False)"
            ]
          },
          "metadata": {
            "tags": []
          },
          "execution_count": 49
        }
      ]
    },
    {
      "cell_type": "code",
      "metadata": {
        "id": "U2YdruYLr5Wu",
        "colab_type": "code",
        "outputId": "d61b8954-0393-401a-a4b3-fa54b0655f54",
        "colab": {
          "base_uri": "https://localhost:8080/",
          "height": 35
        }
      },
      "source": [
        "# testing model:score returns the coefficient of determination R^2 of the prediction.the best possible score is 1.0\n",
        "svm_confidence=svr_rbf.score(x_test,y_test)\n",
        "print(\"svm confidence:\",svm_confidence)"
      ],
      "execution_count": 50,
      "outputs": [
        {
          "output_type": "stream",
          "text": [
            "svm confidence: 0.842656152909864\n"
          ],
          "name": "stdout"
        }
      ]
    },
    {
      "cell_type": "code",
      "metadata": {
        "id": "xcqkri2J2sjD",
        "colab_type": "code",
        "outputId": "3b24af8a-07b4-44aa-82b7-292b38993df6",
        "colab": {
          "base_uri": "https://localhost:8080/",
          "height": 35
        }
      },
      "source": [
        "# create and train the linear regression model \n",
        "lr=LinearRegression()\n",
        "# train the model\n",
        "lr.fit(x_train,y_train)\n"
      ],
      "execution_count": 51,
      "outputs": [
        {
          "output_type": "execute_result",
          "data": {
            "text/plain": [
              "LinearRegression(copy_X=True, fit_intercept=True, n_jobs=None, normalize=False)"
            ]
          },
          "metadata": {
            "tags": []
          },
          "execution_count": 51
        }
      ]
    },
    {
      "cell_type": "code",
      "metadata": {
        "id": "uL8nRvBssO0N",
        "colab_type": "code",
        "outputId": "e123bd56-e3d5-48d9-9507-43825abba0ae",
        "colab": {
          "base_uri": "https://localhost:8080/",
          "height": 35
        }
      },
      "source": [
        "# testing model:score returns the coefficient of determination R^2 of the prediction.the best possible score is 1.0\n",
        "lr_confidence=lr.score(x_test,y_test)\n",
        "print(\"lr confidence:\",lr_confidence)"
      ],
      "execution_count": 52,
      "outputs": [
        {
          "output_type": "stream",
          "text": [
            "lr confidence: 0.8350750970109206\n"
          ],
          "name": "stdout"
        }
      ]
    },
    {
      "cell_type": "code",
      "metadata": {
        "id": "uiplttiHs35S",
        "colab_type": "code",
        "outputId": "1d0941df-47c1-4a1f-a7f2-fd787f1b5b5a",
        "colab": {
          "base_uri": "https://localhost:8080/",
          "height": 587
        }
      },
      "source": [
        "# set x_forecast equal to the last 30 rows of the original data set from Adj.close column\n",
        "x_forecast=np.array(df.drop([\"prediction\"],1))[-forecast_out:]\n",
        "print(x_forecast)"
      ],
      "execution_count": 53,
      "outputs": [
        {
          "output_type": "stream",
          "text": [
            "[[40.  ]\n",
            " [40.35]\n",
            " [42.19]\n",
            " [42.63]\n",
            " [43.45]\n",
            " [43.5 ]\n",
            " [44.21]\n",
            " [44.89]\n",
            " [44.54]\n",
            " [44.25]\n",
            " [46.53]\n",
            " [47.98]\n",
            " [48.58]\n",
            " [48.81]\n",
            " [47.62]\n",
            " [49.11]\n",
            " [52.03]\n",
            " [53.74]\n",
            " [53.97]\n",
            " [55.22]\n",
            " [54.59]\n",
            " [59.37]\n",
            " [59.43]\n",
            " [59.78]\n",
            " [58.84]\n",
            " [60.58]\n",
            " [60.14]\n",
            " [61.15]\n",
            " [61.07]\n",
            " [58.97]\n",
            " [54.21]\n",
            " [55.56]\n",
            " [52.4 ]]\n"
          ],
          "name": "stdout"
        }
      ]
    },
    {
      "cell_type": "code",
      "metadata": {
        "id": "HBp3E3Q6vBYY",
        "colab_type": "code",
        "outputId": "5d2368f5-0db4-41a2-9365-f8c85f648d76",
        "colab": {
          "base_uri": "https://localhost:8080/",
          "height": 225
        }
      },
      "source": [
        "# print the linear regression model predictions for the next n days \n",
        "lr_predictions=lr.predict(x_forecast)\n",
        "print(lr_predictions)\n",
        "# print support vector regression model predictions for the next n days \n",
        "svm_predictions=svr_rbf.predict(x_forecast)\n",
        "print(svm_predictions)"
      ],
      "execution_count": 54,
      "outputs": [
        {
          "output_type": "stream",
          "text": [
            "[38.7927762  39.12224925 40.85433611 41.2685308  42.04043907 42.08750665\n",
            " 42.75586626 43.39598532 43.06651227 42.79352032 44.93980187 46.30476163\n",
            " 46.86957256 47.08608342 45.96587507 47.36848889 50.11723544 51.7269466\n",
            " 51.94345746 53.12014691 52.52709542 57.02675587 57.08323696 57.41271001\n",
            " 56.52783954 58.16579125 57.75159657 58.70236164 58.62705352 56.65021525\n",
            " 52.16938183 53.44020643 50.46553551]\n",
            "[39.13341652 39.5562972  41.92498643 42.511667   42.74867245 42.71094728\n",
            " 41.59105007 40.26931533 40.89109205 41.5063996  42.18199041 43.12824471\n",
            " 42.27926274 42.20116505 43.5404544  42.52314253 60.23977327 65.0234288\n",
            " 65.61308422 66.41665261 66.58536919 70.76085828 70.97243528 72.49312583\n",
            " 69.4412485  77.11227889 74.48841459 79.64918717 79.40325713 69.68753479\n",
            " 66.11669763 66.02312887 61.33393501]\n"
          ],
          "name": "stdout"
        }
      ]
    },
    {
      "cell_type": "markdown",
      "metadata": {
        "id": "t8cxkTJs1Dls",
        "colab_type": "text"
      },
      "source": [
        ""
      ]
    }
  ]
}